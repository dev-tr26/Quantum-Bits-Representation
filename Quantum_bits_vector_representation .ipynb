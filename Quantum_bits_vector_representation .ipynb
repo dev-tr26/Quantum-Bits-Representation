{
 "cells": [
  {
   "cell_type": "code",
   "execution_count": 18,
   "id": "34cbae26-9836-414f-bb20-ff8f5ca167f3",
   "metadata": {},
   "outputs": [
    {
     "data": {
      "text/latex": [
       "$\\displaystyle \\left[\\begin{matrix}1\\\\0\\end{matrix}\\right]$"
      ],
      "text/plain": [
       "Matrix([\n",
       "[1],\n",
       "[0]])"
      ]
     },
     "execution_count": 18,
     "metadata": {},
     "output_type": "execute_result"
    }
   ],
   "source": [
    "import numpy as np\n",
    "import sympy as sp\n",
    "ket_0=np.array([[1],[0]])\n",
    "sp.Matrix(ket_0)\n"
   ]
  },
  {
   "cell_type": "code",
   "execution_count": 20,
   "id": "d7aeb309-a4e2-4e69-9404-0fe2b8e719c2",
   "metadata": {},
   "outputs": [
    {
     "data": {
      "text/latex": [
       "$\\displaystyle \\left[\\begin{matrix}0\\\\1\\end{matrix}\\right]$"
      ],
      "text/plain": [
       "Matrix([\n",
       "[0],\n",
       "[1]])"
      ]
     },
     "execution_count": 20,
     "metadata": {},
     "output_type": "execute_result"
    }
   ],
   "source": [
    "ket_1 = np.array([[0],[1]])\n",
    "sp.Matrix(ket_1)"
   ]
  },
  {
   "cell_type": "code",
   "execution_count": 24,
   "id": "d24a2b71-18ff-4b0f-8df5-b85fa615b9d1",
   "metadata": {},
   "outputs": [
    {
     "name": "stdout",
     "output_type": "stream",
     "text": [
      "magnitude of |0> : 1.0\n",
      "magnitude of |1> : 1.0\n"
     ]
    }
   ],
   "source": [
    "magnitude_0 = np.sqrt(np.sum(ket_0**2))\n",
    "magnitude_1 = np.sqrt(np.sum(ket_1**2))\n",
    "print(f'magnitude of |0> : {magnitude_0}')\n",
    "print(f'magnitude of |1> : {magnitude_1}')\n"
   ]
  },
  {
   "cell_type": "code",
   "execution_count": 30,
   "id": "c8ba0d62-f793-4f42-ae16-cace3adef820",
   "metadata": {},
   "outputs": [
    {
     "name": "stdout",
     "output_type": "stream",
     "text": [
      "[[0]\n",
      " [0]]\n",
      "[[1]\n",
      " [1]]\n"
     ]
    }
   ],
   "source": [
    "#invalid vectors\n",
    "\n",
    "ket_null = np.array([[0],\n",
    "                     [0]])\n",
    "ket_full = np.array([[1],\n",
    "                     [1]])\n",
    "print(ket_null)\n",
    "\n",
    "print(ket_full)"
   ]
  },
  {
   "cell_type": "code",
   "execution_count": 32,
   "id": "be44faeb-880e-4621-8aea-190b920c46a6",
   "metadata": {},
   "outputs": [
    {
     "name": "stdout",
     "output_type": "stream",
     "text": [
      "magnitude of ket_null= 0.0\n",
      "magnitude of ket_full = 1.4142135623730951\n"
     ]
    }
   ],
   "source": [
    "#magnitude of vectors\n",
    "\n",
    "mag_ket_null = np.sqrt(np.sum(ket_null**2))\n",
    "mag_ket_full = np.sqrt(np.sum(ket_full**2))\n",
    "print(f'magnitude of ket_null= {mag_ket_null}')\n",
    "print(f'magnitude of ket_full = {mag_ket_full}')"
   ]
  },
  {
   "cell_type": "code",
   "execution_count": 34,
   "id": "9ffc5cd9-254f-4b85-b911-2ab866938060",
   "metadata": {},
   "outputs": [
    {
     "name": "stdout",
     "output_type": "stream",
     "text": [
      "dot product of |0⟩ and |0⟩ is 1\n",
      "dot product of |0⟩ and |1⟩ is 0\n",
      "dot product of |1⟩ and |0⟩ is 0\n",
      "dot product of |1⟩ and |1⟩ is 1\n"
     ]
    }
   ],
   "source": [
    "#dot products between combinations of 1 and 0\n",
    "\n",
    "dot_products = [np.vdot(ket_0,ket_0),\n",
    "                np.vdot(ket_0,ket_1),\n",
    "                np.vdot(ket_1,ket_0),\n",
    "                np.vdot(ket_1,ket_1)]\n",
    "\n",
    "for i in ['00','01','10','11']:\n",
    "    print(f'dot product of |{i[0]}⟩ and |{i[1]}⟩ is {dot_products[int(i,2)]}')"
   ]
  },
  {
   "cell_type": "code",
   "execution_count": null,
   "id": "d979db20-13c1-465a-b602-6c23547fd193",
   "metadata": {},
   "outputs": [],
   "source": [
    "#define x gate or CNOT gate \n",
    "# it basically functions as reversable XOR gate"
   ]
  },
  {
   "cell_type": "code",
   "execution_count": 44,
   "id": "a37f116d-6d56-458a-9db5-c690d64cf293",
   "metadata": {},
   "outputs": [
    {
     "data": {
      "text/latex": [
       "$\\displaystyle \\left[\\begin{matrix}0 & 1\\\\1 & 0\\end{matrix}\\right]$"
      ],
      "text/plain": [
       "Matrix([\n",
       "[0, 1],\n",
       "[1, 0]])"
      ]
     },
     "execution_count": 44,
     "metadata": {},
     "output_type": "execute_result"
    }
   ],
   "source": [
    "# matrix representation\n",
    "\n",
    "X_gate = np.array([[0,1],\n",
    "                  [1,0]])\n",
    "sp.Matrix(X_gate)"
   ]
  },
  {
   "cell_type": "code",
   "execution_count": 54,
   "id": "1faa4879-f576-435f-bbcf-99172ca6cd43",
   "metadata": {},
   "outputs": [
    {
     "data": {
      "text/latex": [
       "$\\displaystyle \\left[\\begin{matrix}0\\\\1\\end{matrix}\\right]$"
      ],
      "text/plain": [
       "Matrix([\n",
       "[0],\n",
       "[1]])"
      ]
     },
     "execution_count": 54,
     "metadata": {},
     "output_type": "execute_result"
    }
   ],
   "source": [
    "# applying x gate to |0> gives |1> and vice versa\n",
    "\n",
    "# ket_1 = X_gate @ ket_0\n",
    "new_ket_1 = np.matmul(X_gate, ket_0) \n",
    "sp.Matrix(new_ket_1)"
   ]
  },
  {
   "cell_type": "code",
   "execution_count": 56,
   "id": "c4ee5530-5424-4903-8dbd-009a9878b8b0",
   "metadata": {},
   "outputs": [
    {
     "data": {
      "text/latex": [
       "$\\displaystyle \\left[\\begin{matrix}1\\\\0\\end{matrix}\\right]$"
      ],
      "text/plain": [
       "Matrix([\n",
       "[1],\n",
       "[0]])"
      ]
     },
     "execution_count": 56,
     "metadata": {},
     "output_type": "execute_result"
    }
   ],
   "source": [
    "# ket_0 = X_gate @ ket_1\n",
    "new_ket_0 = np.matmul(X_gate, ket_1)\n",
    "sp.Matrix(ket_0)"
   ]
  },
  {
   "cell_type": "code",
   "execution_count": 60,
   "id": "7f84a450-521c-400c-b360-11b266df45c9",
   "metadata": {},
   "outputs": [
    {
     "data": {
      "text/latex": [
       "$\\displaystyle \\left[\\begin{matrix}0.0 & 1.0\\\\1.0 & 0.0\\end{matrix}\\right]$"
      ],
      "text/plain": [
       "Matrix([\n",
       "[0.0, 1.0],\n",
       "[1.0, 0.0]])"
      ]
     },
     "execution_count": 60,
     "metadata": {},
     "output_type": "execute_result"
    }
   ],
   "source": [
    "#finding X_gate matrix inverse to verify its = X\n",
    "\n",
    "X_inverse = np.linalg.inv(X_gate)\n",
    "sp.Matrix(X_inverse)"
   ]
  },
  {
   "cell_type": "code",
   "execution_count": 66,
   "id": "91d9e36c-1546-4c5d-9ae4-9ec52acec02c",
   "metadata": {},
   "outputs": [
    {
     "data": {
      "text/latex": [
       "$\\displaystyle \\left[\\begin{matrix}1 & 0\\\\0 & 1\\end{matrix}\\right]$"
      ],
      "text/plain": [
       "Matrix([\n",
       "[1, 0],\n",
       "[0, 1]])"
      ]
     },
     "execution_count": 66,
     "metadata": {},
     "output_type": "execute_result"
    }
   ],
   "source": [
    "# I=X_gate @ X_gate\n",
    "Identity_mat = np.matmul(X_gate,X_gate)\n",
    "sp.Matrix(Identity_mat)"
   ]
  },
  {
   "cell_type": "code",
   "execution_count": 72,
   "id": "02933b34-8fe7-44fc-8f0b-31d3fe6bde7d",
   "metadata": {},
   "outputs": [
    {
     "data": {
      "text/latex": [
       "$\\displaystyle \\left[\\begin{matrix}0\\\\0\\\\1\\\\0\\end{matrix}\\right]$"
      ],
      "text/plain": [
       "Matrix([\n",
       "[0],\n",
       "[0],\n",
       "[1],\n",
       "[0]])"
      ]
     },
     "execution_count": 72,
     "metadata": {},
     "output_type": "execute_result"
    }
   ],
   "source": [
    "#KRONECKER PRODUCT\n",
    "# we represent muilti bit numbers as vectors\n",
    "# remember the length of vector = 1 alwyas\n",
    "# |b> = [b1,b2....bn] in ket notation such that it belongs to {1,0}\n",
    "\n",
    "\n",
    "b = np.kron(ket_1,ket_0)\n",
    "sp.Matrix(b)\n"
   ]
  },
  {
   "cell_type": "code",
   "execution_count": null,
   "id": "7765688b-45f7-4764-b731-15350179fbb3",
   "metadata": {},
   "outputs": [],
   "source": [
    "# muilti bit representation using kronecker product\n",
    "\n",
    "# eg. 101 in binary \n",
    "# kronecker product of 1 * 0 * 1\n",
    "# bin to decimal of 101 = 5 so at 5th position there's 1 \n",
    "# remember indexing starts from 0\n",
    "# this matrix representation of muiltiple bits will be of 2^n dimension where n=no of bits"
   ]
  },
  {
   "cell_type": "code",
   "execution_count": 84,
   "id": "7402281b-1493-4bda-8b96-3217e60e7176",
   "metadata": {},
   "outputs": [],
   "source": [
    "def bin_to_vec(b):\n",
    "    #defining ket_0 and ket_1 \n",
    "    ket_0 = np.array([[1],[0]])\n",
    "    ket_1 = np.array([[0],[1]])\n",
    "    b_inv = b[::-1]  \n",
    "\n",
    "    # ieration over bits\n",
    "    for i, bit in enumerate(b_inv):\n",
    "        if bit=='0':\n",
    "            b_i = ket_0\n",
    "        else:\n",
    "            b_i = ket_1\n",
    "\n",
    "        if i==0:           #we dont perform kronecker product on 1st bit\n",
    "            ket_b = b_i\n",
    "        else:\n",
    "            ket_b = np.kron(b_i,ket_b)\n",
    "        \n",
    "    return ket_b "
   ]
  },
  {
   "cell_type": "code",
   "execution_count": 86,
   "id": "9a607b1d-768b-4384-bc66-74f829b59a16",
   "metadata": {},
   "outputs": [
    {
     "data": {
      "text/latex": [
       "$\\displaystyle \\left[\\begin{matrix}0\\\\0\\\\0\\\\0\\\\0\\\\1\\\\0\\\\0\\end{matrix}\\right]$"
      ],
      "text/plain": [
       "Matrix([\n",
       "[0],\n",
       "[0],\n",
       "[0],\n",
       "[0],\n",
       "[0],\n",
       "[1],\n",
       "[0],\n",
       "[0]])"
      ]
     },
     "execution_count": 86,
     "metadata": {},
     "output_type": "execute_result"
    }
   ],
   "source": [
    "b1 ='101'\n",
    "b1_vec = bin_to_vec(b1)\n",
    "sp.Matrix(b1_vec)"
   ]
  },
  {
   "cell_type": "code",
   "execution_count": 88,
   "id": "c0b55277-2d02-4b19-9f2a-687173880320",
   "metadata": {},
   "outputs": [
    {
     "data": {
      "text/latex": [
       "$\\displaystyle \\left[\\begin{matrix}0\\\\0\\\\0\\\\0\\\\0\\\\0\\\\0\\\\0\\\\0\\\\0\\\\0\\\\0\\\\0\\\\0\\\\0\\\\0\\\\0\\\\1\\\\0\\\\0\\\\0\\\\0\\\\0\\\\0\\\\0\\\\0\\\\0\\\\0\\\\0\\\\0\\\\0\\\\0\\end{matrix}\\right]$"
      ],
      "text/plain": [
       "Matrix([\n",
       "[0],\n",
       "[0],\n",
       "[0],\n",
       "[0],\n",
       "[0],\n",
       "[0],\n",
       "[0],\n",
       "[0],\n",
       "[0],\n",
       "[0],\n",
       "[0],\n",
       "[0],\n",
       "[0],\n",
       "[0],\n",
       "[0],\n",
       "[0],\n",
       "[0],\n",
       "[1],\n",
       "[0],\n",
       "[0],\n",
       "[0],\n",
       "[0],\n",
       "[0],\n",
       "[0],\n",
       "[0],\n",
       "[0],\n",
       "[0],\n",
       "[0],\n",
       "[0],\n",
       "[0],\n",
       "[0],\n",
       "[0]])"
      ]
     },
     "execution_count": 88,
     "metadata": {},
     "output_type": "execute_result"
    }
   ],
   "source": [
    "b2 = '10001'\n",
    "b2_vec = bin_to_vec(b2)\n",
    "sp.Matrix(b2_vec) "
   ]
  },
  {
   "cell_type": "code",
   "execution_count": 92,
   "id": "f105e65f-a193-4849-af5d-2d3d0333a0f2",
   "metadata": {},
   "outputs": [
    {
     "name": "stdout",
     "output_type": "stream",
     "text": [
      "Number 4 in binary has 3 bits \n",
      "this should result in vector of dimension 8, with a '1' at index 4\n"
     ]
    }
   ],
   "source": [
    "b3 = '100'\n",
    "bin_to_int = int(b3,2)\n",
    "bits = len(b3)\n",
    "print(f'Number {bin_to_int} in binary has {bits} bits ')\n",
    "print(f'this should result in vector of dimension {2**bits}, with a \\'1\\' at index {bin_to_int}')"
   ]
  },
  {
   "cell_type": "code",
   "execution_count": null,
   "id": "aa511a7c-8f63-46d0-a4ec-dc84a5b25586",
   "metadata": {},
   "outputs": [],
   "source": []
  },
  {
   "cell_type": "code",
   "execution_count": 104,
   "id": "ae12079f-8fd7-42b4-901c-947d27997c73",
   "metadata": {},
   "outputs": [
    {
     "name": "stdout",
     "output_type": "stream",
     "text": [
      "The dimension of vector is 4\n",
      "there  is  1 at position 10 of this vector\n"
     ]
    }
   ],
   "source": [
    "b4 = '1010'\n",
    "vec1 = bin_to_vec(b4)   \n",
    "vec1_len = len(b4)      \n",
    "vec1_position = int(b4,2)\n",
    "\n",
    "print(f'The dimension of vector is {vec1_len}')\n",
    "print(f'there  is  1 at position {vec1_position} of this vector')"
   ]
  },
  {
   "cell_type": "code",
   "execution_count": null,
   "id": "85b056f1-4113-4a88-97c2-aa248a78abbb",
   "metadata": {},
   "outputs": [],
   "source": []
  },
  {
   "cell_type": "code",
   "execution_count": null,
   "id": "10a35b19-9099-463b-980c-d68d754ec111",
   "metadata": {},
   "outputs": [],
   "source": []
  }
 ],
 "metadata": {
  "kernelspec": {
   "display_name": "Python [conda env:base] *",
   "language": "python",
   "name": "conda-base-py"
  },
  "language_info": {
   "codemirror_mode": {
    "name": "ipython",
    "version": 3
   },
   "file_extension": ".py",
   "mimetype": "text/x-python",
   "name": "python",
   "nbconvert_exporter": "python",
   "pygments_lexer": "ipython3",
   "version": "3.12.7"
  }
 },
 "nbformat": 4,
 "nbformat_minor": 5
}
